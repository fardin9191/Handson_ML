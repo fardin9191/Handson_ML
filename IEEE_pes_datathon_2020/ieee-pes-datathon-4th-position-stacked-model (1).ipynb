{
 "cells": [
  {
   "cell_type": "markdown",
   "metadata": {},
   "source": [
    "# Overall description:\n",
    "\n",
    "* *Visualization :* Observing dataset type,shape, data distribution type, correlation, GHI value over time.\n",
    "* *Preprocessing :* I used stadanrdscaling for removing the mean and scaling the data to unit variance. i split the dataset manually for lstm_input. For other model, I used sklearn train_test_split.\n",
    "* *Model training*: I trained three different NN model.SNN,FNN and LSTM. All hyperparameters were tuned by RANDPOMIZEDSEARCHCV. I haven't included that hyperparameter tunning part in this notebook. \n",
    "* *checking-error*: RMSE score\n",
    "* *Ensembling :* Stacking_ensemble on pretrained model.\n",
    "* *Weighted avg on prediction*: Gave weight to stacked_model,snn_model,lstm_model submission w.r.t to their accuracy on validation set.\n",
    "\n",
    "* ***My personal insight on increasing accuracy:*** \n",
    "> I should have used a fixed validation set for checking unbiased validation error of those model and regularize stacked model based on that unbiased error, instead i trained 3 model on different notebook,based on different train_validation set.I load those pretrained model,in stacked model and got biased result.And when i find this mistake, the comp was nearly at end,had no time for fixing that.This mistake resulted slightly overfit on test set. Public score:112.67(3rd) ,private score: 113.65(4th)\n",
    "\n"
   ]
  },
  {
   "cell_type": "code",
   "execution_count": 1,
   "metadata": {
    "_cell_guid": "79c7e3d0-c299-4dcb-8224-4455121ee9b0",
    "_uuid": "d629ff2d2480ee46fbb7e2d37f6b5fab8052498a",
    "id": "sZUqyMOixKPv",
    "outputId": "3d4cb9c5-3113-42ab-cf5f-c9a451b5364c"
   },
   "outputs": [],
   "source": [
    "import pandas as pd\n",
    "import numpy as np\n",
    "import matplotlib.pyplot as plt\n",
    "import seaborn as sns\n",
    "sns.set()\n",
    "from sklearn.preprocessing import scale\n",
    "from sklearn.model_selection import train_test_split"
   ]
  },
  {
   "cell_type": "code",
   "execution_count": 2,
   "metadata": {
    "id": "36XpLmKMxKPy"
   },
   "outputs": [],
   "source": [
    "#file=\"/content/gdrive/My Drive/Colab Notebooks/train.csv\"\n",
    "train=pd.read_csv(\"train.csv\")\n",
    "test=pd.read_csv(\"test.csv\")"
   ]
  },
  {
   "cell_type": "code",
   "execution_count": 3,
   "metadata": {
    "id": "thxa0YXIxKP0",
    "outputId": "ce83c18a-953f-4930-cc57-0c9bae3375c2"
   },
   "outputs": [],
   "source": [
    "train.drop([\"ID\"], axis=1, inplace=True)\n"
   ]
  },
  {
   "cell_type": "code",
   "execution_count": 4,
   "metadata": {},
   "outputs": [
    {
     "data": {
      "text/plain": [
       "(973439, 7)"
      ]
     },
     "execution_count": 4,
     "metadata": {},
     "output_type": "execute_result"
    }
   ],
   "source": [
    "train.shape"
   ]
  },
  {
   "cell_type": "markdown",
   "metadata": {},
   "source": [
    "# **Visualization**"
   ]
  },
  {
   "cell_type": "code",
   "execution_count": 5,
   "metadata": {},
   "outputs": [
    {
     "data": {
      "text/html": [
       "<div>\n",
       "<style scoped>\n",
       "    .dataframe tbody tr th:only-of-type {\n",
       "        vertical-align: middle;\n",
       "    }\n",
       "\n",
       "    .dataframe tbody tr th {\n",
       "        vertical-align: top;\n",
       "    }\n",
       "\n",
       "    .dataframe thead th {\n",
       "        text-align: right;\n",
       "    }\n",
       "</style>\n",
       "<table border=\"1\" class=\"dataframe\">\n",
       "  <thead>\n",
       "    <tr style=\"text-align: right;\">\n",
       "      <th></th>\n",
       "      <th>global_horizontal_irradiance</th>\n",
       "      <th>precipitation</th>\n",
       "      <th>atmospheric_pressure</th>\n",
       "      <th>relative_humidity</th>\n",
       "      <th>air_temperature</th>\n",
       "      <th>wind_direction</th>\n",
       "      <th>wind_speed</th>\n",
       "    </tr>\n",
       "  </thead>\n",
       "  <tbody>\n",
       "    <tr>\n",
       "      <th>count</th>\n",
       "      <td>973439.000000</td>\n",
       "      <td>973439.000000</td>\n",
       "      <td>973439.000000</td>\n",
       "      <td>973439.000000</td>\n",
       "      <td>973439.000000</td>\n",
       "      <td>973439.000000</td>\n",
       "      <td>973439.000000</td>\n",
       "    </tr>\n",
       "    <tr>\n",
       "      <th>mean</th>\n",
       "      <td>191.172226</td>\n",
       "      <td>0.005469</td>\n",
       "      <td>1005.602558</td>\n",
       "      <td>87.557049</td>\n",
       "      <td>26.399821</td>\n",
       "      <td>184.860255</td>\n",
       "      <td>1.911692</td>\n",
       "    </tr>\n",
       "    <tr>\n",
       "      <th>std</th>\n",
       "      <td>282.451967</td>\n",
       "      <td>0.055166</td>\n",
       "      <td>5.393056</td>\n",
       "      <td>16.043781</td>\n",
       "      <td>4.758667</td>\n",
       "      <td>95.175636</td>\n",
       "      <td>1.216561</td>\n",
       "    </tr>\n",
       "    <tr>\n",
       "      <th>min</th>\n",
       "      <td>0.000000</td>\n",
       "      <td>0.000000</td>\n",
       "      <td>986.163000</td>\n",
       "      <td>19.935900</td>\n",
       "      <td>9.031670</td>\n",
       "      <td>0.001493</td>\n",
       "      <td>0.000000</td>\n",
       "    </tr>\n",
       "    <tr>\n",
       "      <th>25%</th>\n",
       "      <td>0.000000</td>\n",
       "      <td>0.000000</td>\n",
       "      <td>1001.310000</td>\n",
       "      <td>81.215200</td>\n",
       "      <td>24.137450</td>\n",
       "      <td>128.474500</td>\n",
       "      <td>1.039920</td>\n",
       "    </tr>\n",
       "    <tr>\n",
       "      <th>50%</th>\n",
       "      <td>4.626500</td>\n",
       "      <td>0.000000</td>\n",
       "      <td>1005.800000</td>\n",
       "      <td>94.236000</td>\n",
       "      <td>27.301300</td>\n",
       "      <td>172.408000</td>\n",
       "      <td>1.659100</td>\n",
       "    </tr>\n",
       "    <tr>\n",
       "      <th>75%</th>\n",
       "      <td>327.273500</td>\n",
       "      <td>0.000000</td>\n",
       "      <td>1010.020000</td>\n",
       "      <td>100.000000</td>\n",
       "      <td>29.317000</td>\n",
       "      <td>265.911000</td>\n",
       "      <td>2.538005</td>\n",
       "    </tr>\n",
       "    <tr>\n",
       "      <th>max</th>\n",
       "      <td>1486.420000</td>\n",
       "      <td>4.900000</td>\n",
       "      <td>1018.630000</td>\n",
       "      <td>100.000000</td>\n",
       "      <td>39.945800</td>\n",
       "      <td>360.000000</td>\n",
       "      <td>16.058250</td>\n",
       "    </tr>\n",
       "  </tbody>\n",
       "</table>\n",
       "</div>"
      ],
      "text/plain": [
       "       global_horizontal_irradiance   precipitation   atmospheric_pressure  \\\n",
       "count                 973439.000000    973439.000000         973439.000000   \n",
       "mean                     191.172226         0.005469           1005.602558   \n",
       "std                      282.451967         0.055166              5.393056   \n",
       "min                        0.000000         0.000000            986.163000   \n",
       "25%                        0.000000         0.000000           1001.310000   \n",
       "50%                        4.626500         0.000000           1005.800000   \n",
       "75%                      327.273500         0.000000           1010.020000   \n",
       "max                     1486.420000         4.900000           1018.630000   \n",
       "\n",
       "       relative_humidity  air_temperature    wind_direction     wind_speed  \n",
       "count      973439.000000     973439.000000    973439.000000  973439.000000  \n",
       "mean           87.557049         26.399821       184.860255       1.911692  \n",
       "std            16.043781          4.758667        95.175636       1.216561  \n",
       "min            19.935900          9.031670         0.001493       0.000000  \n",
       "25%            81.215200         24.137450       128.474500       1.039920  \n",
       "50%            94.236000         27.301300       172.408000       1.659100  \n",
       "75%           100.000000         29.317000       265.911000       2.538005  \n",
       "max           100.000000         39.945800       360.000000      16.058250  "
      ]
     },
     "execution_count": 5,
     "metadata": {},
     "output_type": "execute_result"
    }
   ],
   "source": [
    "train.describe()"
   ]
  },
  {
   "cell_type": "code",
   "execution_count": 6,
   "metadata": {
    "id": "kL0UOC48xKP-",
    "scrolled": true
   },
   "outputs": [
    {
     "data": {
      "text/plain": [
       "array([[<matplotlib.axes._subplots.AxesSubplot object at 0x000001C505B69108>,\n",
       "        <matplotlib.axes._subplots.AxesSubplot object at 0x000001C50608E748>,\n",
       "        <matplotlib.axes._subplots.AxesSubplot object at 0x000001C5060CB848>],\n",
       "       [<matplotlib.axes._subplots.AxesSubplot object at 0x000001C5060FF908>,\n",
       "        <matplotlib.axes._subplots.AxesSubplot object at 0x000001C506559A08>,\n",
       "        <matplotlib.axes._subplots.AxesSubplot object at 0x000001C506591B08>],\n",
       "       [<matplotlib.axes._subplots.AxesSubplot object at 0x000001C5065C9C48>,\n",
       "        <matplotlib.axes._subplots.AxesSubplot object at 0x000001C5065FFD48>,\n",
       "        <matplotlib.axes._subplots.AxesSubplot object at 0x000001C50660A948>]],\n",
       "      dtype=object)"
      ]
     },
     "execution_count": 6,
     "metadata": {},
     "output_type": "execute_result"
    },
    {
     "data": {
      "image/png": "[encoded data removed]",
      "text/plain": [
       "<Figure size 1440x1080 with 9 Axes>"
      ]
     },
     "metadata": {},
     "output_type": "display_data"
    }
   ],
   "source": [
    "train.hist(bins=50,figsize=(20,15))"
   ]
  },
  {
   "cell_type": "markdown",
   "metadata": {},
   "source": [
    "Normal distribution in air_temp,pressure.Poisson distribution in wind_speed. We will apply transformation to this later."
   ]
  },
  {
   "cell_type": "code",
   "execution_count": 7,
   "metadata": {},
   "outputs": [
    {
     "name": "stdout",
     "output_type": "stream",
     "text": [
      "<class 'pandas.core.frame.DataFrame'>\n",
      "RangeIndex: 973439 entries, 0 to 973438\n",
      "Data columns (total 7 columns):\n",
      " #   Column                        Non-Null Count   Dtype  \n",
      "---  ------                        --------------   -----  \n",
      " 0   global_horizontal_irradiance  973439 non-null  float64\n",
      " 1    precipitation                973439 non-null  float64\n",
      " 2   atmospheric_pressure          973439 non-null  float64\n",
      " 3   relative_humidity             973439 non-null  float64\n",
      " 4   air_temperature               973439 non-null  float64\n",
      " 5    wind_direction               973439 non-null  float64\n",
      " 6   wind_speed                    973439 non-null  float64\n",
      "dtypes: float64(7)\n",
      "memory usage: 52.0 MB\n"
     ]
    }
   ],
   "source": [
    "train.info()"
   ]
  },
  {
   "cell_type": "markdown",
   "metadata": {},
   "source": [
    "No null value :) We hate null value >_<"
   ]
  },
  {
   "cell_type": "code",
   "execution_count": 8,
   "metadata": {},
   "outputs": [
    {
     "data": {
      "text/plain": [
       "(-10, 1602)"
      ]
     },
     "execution_count": 8,
     "metadata": {},
     "output_type": "execute_result"
    },
    {
     "data": {
      "image/png": "[encoded data removed]",
      "text/plain": [
       "<Figure size 1080x576 with 1 Axes>"
      ]
     },
     "metadata": {},
     "output_type": "display_data"
    }
   ],
   "source": [
    "f, ax = plt.subplots(figsize=(15,8))\n",
    "sns.distplot(train['global_horizontal_irradiance']) #for checking distribution of GHI\n",
    "plt.xlim([-10,1602])"
   ]
  },
  {
   "cell_type": "markdown",
   "metadata": {},
   "source": [
    "Most of the GHI value is distributed in zero.Lets see correlation between features for more insight."
   ]
  },
  {
   "cell_type": "code",
   "execution_count": 9,
   "metadata": {},
   "outputs": [
    {
     "data": {
      "text/plain": [
       "<matplotlib.axes._subplots.AxesSubplot at 0x1c507e7a648>"
      ]
     },
     "execution_count": 9,
     "metadata": {},
     "output_type": "execute_result"
    },
    {
     "data": {
      "image/png": "[encoded data removed]",
      "text/plain": [
       "<Figure size 720x720 with 2 Axes>"
      ]
     },
     "metadata": {},
     "output_type": "display_data"
    }
   ],
   "source": [
    "plt.figure(figsize=(10,10))\n",
    "sns.heatmap(train.corr(),annot=True,cmap='RdYlGn')"
   ]
  },
  {
   "cell_type": "code",
   "execution_count": 10,
   "metadata": {},
   "outputs": [
    {
     "name": "stdout",
     "output_type": "stream",
     "text": [
      "global_horizontal_irradiance    1.000000\n",
      "air_temperature                 0.483470\n",
      "wind_speed                      0.279513\n",
      "atmospheric_pressure            0.022162\n",
      " wind_direction                -0.005341\n",
      " precipitation                 -0.057924\n",
      "relative_humidity              -0.615503\n",
      "Name: global_horizontal_irradiance, dtype: float64\n"
     ]
    }
   ],
   "source": [
    "corr_matrix=train.corr()\n",
    "print(corr_matrix['global_horizontal_irradiance'].sort_values(ascending=False))"
   ]
  },
  {
   "cell_type": "markdown",
   "metadata": {},
   "source": [
    "We can see ,wind_direction and precipitation is less correlated with GHI. But we cant drop those column bcz it has impact on solar prediction, And dropping columns hampers model accuracy also."
   ]
  },
  {
   "cell_type": "code",
   "execution_count": 11,
   "metadata": {},
   "outputs": [
    {
     "data": {
      "image/png": "[encoded data removed]",
      "text/plain": [
       "<Figure size 432x288 with 1 Axes>"
      ]
     },
     "metadata": {},
     "output_type": "display_data"
    }
   ],
   "source": [
    "train_small=train[:200].copy()\n",
    "plt.style.use('ggplot')\n",
    "y=train_small['global_horizontal_irradiance']\n",
    "x=range(200)\n",
    "\n",
    "plt.plot(x,y,color='k')\n",
    "plt.xlabel(\"Index\")\n",
    "plt.ylabel(\"GHI\")\n",
    "#Give graph a title\n",
    "plt.title('GHI visualization')\n",
    "plt.show()"
   ]
  },
  {
   "cell_type": "markdown",
   "metadata": {},
   "source": [
    "This is a time series data, We can use RNN lstm on this data."
   ]
  },
  {
   "cell_type": "markdown",
   "metadata": {},
   "source": [
    "From above visualization and training on various model, I decided to train a \n",
    "1.SNN model(Selu+lecun_normal),as there is a great chance for exploding gradient\n",
    " 2.A FNN model(He+he_normal and \n",
    " 3.LSTM model for time series.\n",
    "\n",
    "**For LSTM, I didnt shuffle the dataset after preprocessing."
   ]
  },
  {
   "cell_type": "markdown",
   "metadata": {},
   "source": [
    "# Preprocessing & splitting the dataset"
   ]
  },
  {
   "cell_type": "markdown",
   "metadata": {},
   "source": [
    "**I used \n",
    "1.log transformation\n",
    "2.Square root transformation\n",
    "3.Boxcox transformation\n",
    "4.Standardscaling on train_data. Among them, i find standardscaling does better then all of them."
   ]
  },
  {
   "cell_type": "code",
   "execution_count": 12,
   "metadata": {},
   "outputs": [
    {
     "name": "stdout",
     "output_type": "stream",
     "text": [
      "(973439, 6) (973439,)\n"
     ]
    }
   ],
   "source": [
    "train_label=train[\"global_horizontal_irradiance\"].copy()\n",
    "train.drop(['global_horizontal_irradiance'], axis=1, inplace=True)\n",
    "print(train.shape,train_label.shape)"
   ]
  },
  {
   "cell_type": "markdown",
   "metadata": {},
   "source": [
    "For lstm,(bcz we shouldnt feed shuffled data to lstm)"
   ]
  },
  {
   "cell_type": "code",
   "execution_count": 13,
   "metadata": {},
   "outputs": [],
   "source": [
    "def processing(train_data):\n",
    "    from sklearn.preprocessing import StandardScaler\n",
    "    scaled_features = StandardScaler().fit_transform(train_data.values)\n",
    "    scaled_data=pd.DataFrame(scaled_features,index=train_data.index,columns=train_data.columns)\n",
    "\n",
    "    return scaled_data\n",
    "\n",
    "X_train_lstm=processing(train)"
   ]
  },
  {
   "cell_type": "code",
   "execution_count": 14,
   "metadata": {},
   "outputs": [
    {
     "name": "stdout",
     "output_type": "stream",
     "text": [
      "(953970, 1, 6) (953970,) (19469, 1, 6) (19469,)\n"
     ]
    }
   ],
   "source": [
    "data_len = len(X_train_lstm)\n",
    "pct = 0.98 \n",
    "train_len = int(pct*data_len)\n",
    "train_data_lstm = X_train_lstm[:train_len]\n",
    "train_label_lstm = train_label[:train_len].values\n",
    "\n",
    "X_valid_lstm = X_train_lstm[train_len:]\n",
    "y_valid_lstm = train_label[train_len:].values\n",
    "\n",
    "train_data_lstm = train_data_lstm.values.reshape((train_data_lstm.shape[0],1,train_data_lstm.shape[1])) #for the lstm shape (None,time step,features)\n",
    "X_valid_lstm = X_valid_lstm.values.reshape((X_valid_lstm.shape[0], 1, X_valid_lstm.shape[1]))\n",
    "print(train_data_lstm.shape, train_label_lstm.shape, X_valid_lstm.shape,y_valid_lstm.shape) "
   ]
  },
  {
   "cell_type": "markdown",
   "metadata": {},
   "source": [
    "For SNN and FNN"
   ]
  },
  {
   "cell_type": "code",
   "execution_count": 15,
   "metadata": {},
   "outputs": [],
   "source": [
    "train_data=processing(train)"
   ]
  },
  {
   "cell_type": "code",
   "execution_count": 16,
   "metadata": {},
   "outputs": [
    {
     "name": "stdout",
     "output_type": "stream",
     "text": [
      "(924767, 6) (924767,) (48672, 6) (48672,)\n"
     ]
    }
   ],
   "source": [
    "train_data, X_valid, train_label, y_valid = train_test_split(train_data, train_label, train_size=0.95,test_size = 0.05, random_state = 42)\n",
    "print(train_data.shape,train_label.shape,X_valid.shape,y_valid.shape)"
   ]
  },
  {
   "cell_type": "markdown",
   "metadata": {},
   "source": [
    "# ***MODEL TRAINING***\n",
    "***ALL HYPARPARAMETER WERE TUNED BY RANDOMIZEDSEARCHCV***"
   ]
  },
  {
   "cell_type": "code",
   "execution_count": null,
   "metadata": {
    "id": "g5ipKSxuxKQb"
   },
   "outputs": [],
   "source": [
    "from tensorflow import keras\n",
    "import tensorflow as tf\n",
    "from keras.layers import Dense\n",
    "from keras.layers import AlphaDropout\n",
    "from keras.layers import Dropout\n",
    "from keras.layers import BatchNormalization\n",
    "from keras import models\n",
    "from keras.layers import LSTM\n",
    "from keras.models import Sequential\n",
    "from keras.layers import Flatten"
   ]
  },
  {
   "cell_type": "markdown",
   "metadata": {},
   "source": [
    "*SNN model\n",
    "ACTIVATION=\"SELU\",INIT=\"LECUN_NORMAL\"*"
   ]
  },
  {
   "cell_type": "code",
   "execution_count": null,
   "metadata": {
    "id": "FPFhpYnFxKQn"
   },
   "outputs": [],
   "source": [
    "#reg = keras.regularizers.l1_l2(l1=0.01, l2=0.1) \n",
    "reg = keras.regularizers.l1_l2(l1=0.001, l2=0.01) \n",
    "dropout=0.2\n",
    "snn_model = keras.models.Sequential([\n",
    "        \n",
    "        keras.layers.Input(shape=train_data.shape[1]),\n",
    "        keras.layers.Dense(600, activation=\"selu\",kernel_initializer=\"lecun_normal\", kernel_regularizer=reg),\n",
    "        #keras.layers.AlphaDropout(0.2),\n",
    "    \n",
    "        keras.layers.Dense(600, activation=\"selu\",kernel_initializer=\"lecun_normal\", kernel_regularizer=reg),\n",
    "        #keras.layers.AlphaDropout(0.2),\n",
    "    \n",
    "        keras.layers.Dense(300, activation=\"selu\",kernel_initializer=\"lecun_normal\", kernel_regularizer=reg),\n",
    "        #keras.layers.AlphaDropout(0.1),\n",
    "     \n",
    "        keras.layers.Dense(300, activation=\"selu\",kernel_initializer=\"lecun_normal\", kernel_regularizer=reg),\n",
    "        #keras.layers.AlphaDropout(0.1),\n",
    "    \n",
    "        keras.layers.Dense(150, activation=\"selu\",kernel_initializer=\"lecun_normal\", kernel_regularizer=reg),\n",
    "        #keras.layers.AlphaDropout(0.1),\n",
    "        keras.layers.BatchNormalization(),\n",
    "    \n",
    "        keras.layers.Dense(150, activation=\"selu\",kernel_initializer=\"lecun_normal\", kernel_regularizer=reg),\n",
    "        #keras.layers.AlphaDropout(0.05),\n",
    "        keras.layers.BatchNormalization(),\n",
    "        keras.layers.Dense(150, activation=\"selu\",kernel_initializer=\"lecun_normal\", kernel_regularizer=reg),\n",
    "        #keras.layers.AlphaDropout(0.05),\n",
    "        keras.layers.BatchNormalization(),\n",
    "        keras.layers.Dense(100, activation=\"selu\",kernel_initializer=\"lecun_normal\", kernel_regularizer=reg),\n",
    "        keras.layers.Dense(1)\n",
    "])\n",
    "\n",
    "early_stopping_cb = keras.callbacks.EarlyStopping(patience=5,restore_best_weights=True)\n",
    "optimizer=keras.optimizers.Nadam(\n",
    "    learning_rate=0.0009, beta_1=0.9, beta_2=0.999, epsilon=1e-07,decay=1e-09\n",
    ")\n",
    "model.compile(loss=\"mean_squared_error\", optimizer=optimizer,metrics=['accuracy'])\n"
   ]
  },
  {
   "cell_type": "markdown",
   "metadata": {},
   "source": [
    "*FNN MODEL\n",
    "ACTIVATION=\"ELU\",INIT=\"HE_NORMAL\" WITH BATCHNORMALIZATION*"
   ]
  },
  {
   "cell_type": "code",
   "execution_count": null,
   "metadata": {},
   "outputs": [],
   "source": [
    "reg = keras.regularizers.l1_l2(l1=0.001, l2=0.01) \n",
    "dropout=0.2\n",
    "initializer = tf.keras.initializers.he_normal()\n",
    "fnn_model = keras.models.Sequential([\n",
    "        \n",
    "        keras.layers.Input(shape=train_data.shape[1]),\n",
    "        keras.layers.Dense(500, activation=\"elu\",kernel_initializer=initializer, kernel_regularizer=reg),\n",
    "        #keras.layers.AlphaDropout(dropout),\n",
    "        keras.layers.BatchNormalization(),\n",
    "        keras.layers.Dense(500, activation=\"elu\",kernel_initializer=initializer, kernel_regularizer=reg),\n",
    "        #keras.layers.AlphaDropout(dropout),\n",
    "        keras.layers.BatchNormalization(),\n",
    "        keras.layers.Dense(300, activation=\"elu\",kernel_initializer=initializer, kernel_regularizer=reg),\n",
    "        #keras.layers.AlphaDropout(0.1),\n",
    "        keras.layers.BatchNormalization(),\n",
    "        keras.layers.Dense(300, activation=\"elu\",kernel_initializer=initializer, kernel_regularizer=reg),\n",
    "        #keras.layers.AlphaDropout(0.1),\n",
    "        keras.layers.BatchNormalization(),\n",
    "        keras.layers.Dropout(0.1),\n",
    "        keras.layers.Dense(150, activation=\"elu\",kernel_initializer=initializer, kernel_regularizer=reg),\n",
    "        #keras.layers.AlphaDropout(0.1),\n",
    "        keras.layers.BatchNormalization(),\n",
    "        keras.layers.Dense(150, activation=\"elu\",kernel_initializer=initializer, kernel_regularizer=reg),\n",
    "        #keras.layers.AlphaDropout(0.05),\n",
    "        keras.layers.BatchNormalization(),\n",
    "        keras.layers.Dense(150, activation=\"elu\",kernel_initializer=initializer, kernel_regularizer=reg),\n",
    "        #keras.layers.AlphaDropout(0.05),\n",
    "        keras.layers.BatchNormalization(),\n",
    "        keras.layers.Dense(100, activation=\"elu\",kernel_initializer=initializer, kernel_regularizer=reg),\n",
    "        keras.layers.Dense(1)\n",
    "])\n",
    "# def exponential_decay(lr0, s):\n",
    "#     def exponential_decay_fn(epoch):\n",
    "#         return lr0 * 0.1**(epoch / s)\n",
    "#     return exponential_decay_fn\n",
    "# exponential_decay_fn = exponential_decay(lr0=0.01, s=100)\n",
    "#lr_scheduler = keras.callbacks.LearningRateScheduler(exponential_decay_fn)\n",
    "\n",
    "optimizer=keras.optimizers.Nadam(\n",
    "    learning_rate=0.0005, beta_1=0.9, beta_2=0.999, epsilon=1e-07,decay=1e-06\n",
    ")\n",
    "#lr_scheduler = keras.callbacks.ReduceLROnPlateau(factor=0.5, patience=3)\n",
    "model.compile(loss=\"mean_squared_error\", optimizer=optimizer,metrics=['accuracy'])"
   ]
  },
  {
   "cell_type": "markdown",
   "metadata": {},
   "source": [
    "*LSTM Model"
   ]
  },
  {
   "cell_type": "code",
   "execution_count": null,
   "metadata": {
    "collapsed": true
   },
   "outputs": [],
   "source": [
    "reg = keras.regularizers.l1_l2(l1=0.0001, l2=0.01) \n",
    "\n",
    "lstm_model = keras.models.Sequential([\n",
    "    keras.layers.Input(shape=(train_data_lstm.shape[1], train_data_lstm.shape[2])),\n",
    "    keras.layers.LSTM(500,activation=\"selu\",kernel_initializer=\"lecun_normal\",return_sequences=True,kernel_regularizer=reg),\n",
    "    keras.layers.Dropout(0.2),\n",
    "    keras.layers.BatchNormalization(),\n",
    "    \n",
    "    keras.layers.LSTM(300,activation=\"selu\",kernel_initializer=\"lecun_normal\",return_sequences=True,kernel_regularizer=reg),\n",
    "    keras.layers.BatchNormalization(),\n",
    "    keras.layers.Dropout(0.1),\n",
    "    \n",
    "    keras.layers.LSTM(150,activation=\"selu\",kernel_initializer=\"lecun_normal\",return_sequences=True,kernel_regularizer=reg),\n",
    "    keras.layers.BatchNormalization(),\n",
    "    keras.layers.Dropout(0.1),\n",
    "    \n",
    "    keras.layers.LSTM(150,activation=\"selu\",kernel_initializer=\"lecun_normal\",return_sequences=True,kernel_regularizer=reg),\n",
    "    keras.layers.BatchNormalization(),\n",
    "    \n",
    "    keras.layers.LSTM(100,activation=\"selu\",kernel_initializer=\"lecun_normal\",kernel_regularizer=reg),\n",
    "    keras.layers.Dense(1)\n",
    "])\n",
    "\n",
    "\n",
    "optimizer=keras.optimizers.Nadam(\n",
    "    learning_rate=0.0009, beta_1=0.9, beta_2=0.999, epsilon=1e-07,decay=1e-07)\n",
    "model.compile(loss=\"mean_squared_error\", optimizer=optimizer,metrics=['accuracy'])"
   ]
  },
  {
   "cell_type": "code",
   "execution_count": null,
   "metadata": {},
   "outputs": [],
   "source": [
    "snn_model.summary()\n",
    "fnn_model.summary()\n",
    "lstm_model.summary()"
   ]
  },
  {
   "cell_type": "markdown",
   "metadata": {},
   "source": [
    "***Model Training***"
   ]
  },
  {
   "cell_type": "markdown",
   "metadata": {},
   "source": [
    "**SNN"
   ]
  },
  {
   "cell_type": "code",
   "execution_count": null,
   "metadata": {},
   "outputs": [],
   "source": [
    "checkpoint_cb = keras.callbacks.ModelCheckpoint(\"snn_model_fromcallback_on_tuned_param.h5\",\n",
    " save_best_only=True)\n",
    "reduce_lr1 = keras.callbacks.ReduceLROnPlateau(monitor='val_loss', factor=0.7,\n",
    "                              patience=5, min_lr=0) #For stucked at plateu problem\n",
    "reduce_lr2 = keras.callbacks.ReduceLROnPlateau(monitor='val_loss', factor=0.5,\n",
    "                              patience=3, min_lr=0)"
   ]
  },
  {
   "cell_type": "code",
   "execution_count": null,
   "metadata": {
    "id": "mwzNqrhCxKQt",
    "scrolled": false
   },
   "outputs": [],
   "source": [
    "history1 = snn_model.fit(train_data, train_label, epochs=130, batch_size=150, validation_data=(X_valid, y_valid), verbose=1) \n",
    "history2 = snn_model.fit(train_data, train_label, epochs=60, batch_size=512, validation_data=(X_valid, y_valid), verbose=1,callbacks=[checkpoint_cb,reduce_lr1]) \n",
    "history3 = snn_model.fit(train_data, train_label, epochs=40, batch_size=700, validation_data=(X_valid, y_valid), verbose=1,callbacks=[checkpoint_cb,reduce_lr2]) "
   ]
  },
  {
   "cell_type": "code",
   "execution_count": null,
   "metadata": {},
   "outputs": [],
   "source": [
    "pd.DataFrame(history1.history).plot(figsize=(8, 5)) #for checking learning_curve\n",
    "plt.grid(True)\n",
    "plt.gca() \n",
    "plt.show()"
   ]
  },
  {
   "cell_type": "markdown",
   "metadata": {},
   "source": [
    "**FNN"
   ]
  },
  {
   "cell_type": "code",
   "execution_count": null,
   "metadata": {},
   "outputs": [],
   "source": [
    "checkpoint_cb = keras.callbacks.ModelCheckpoint(\"fnn_he_model_fromcallback_on_tuned_param.h5\",\n",
    " save_best_only=True)\n",
    "reduce_lr1 = keras.callbacks.ReduceLROnPlateau(monitor='val_loss', factor=0.7,\n",
    "                              patience=5, min_lr=0)\n",
    "reduce_lr2 = keras.callbacks.ReduceLROnPlateau(monitor='val_loss', factor=0.3,\n",
    "                              patience=3, min_lr=0)"
   ]
  },
  {
   "cell_type": "code",
   "execution_count": null,
   "metadata": {},
   "outputs": [],
   "source": [
    "history1 = fnn_model.fit(train_data, train_label, epochs=130, batch_size=256, validation_data=(X_valid, y_valid), verbose=1) \n",
    "history2 = fnn_model.fit(train_data, train_label, epochs=60, batch_size=512, validation_data=(X_valid, y_valid), verbose=1,callbacks=[checkpoint_cb,reduce_lr1]) \n",
    "history3 = fnn_model.fit(train_data, train_label, epochs=40, batch_size=1024, validation_data=(X_valid, y_valid), verbose=1,callbacks=[checkpoint_cb,reduce_lr2])"
   ]
  },
  {
   "cell_type": "markdown",
   "metadata": {},
   "source": [
    "Lets check the learning_curve"
   ]
  },
  {
   "cell_type": "code",
   "execution_count": null,
   "metadata": {},
   "outputs": [],
   "source": [
    "pd.DataFrame(history1.history).plot(figsize=(8, 5)) #for checking learning_curve\n",
    "plt.grid(True)\n",
    "plt.gca() \n",
    "plt.show()"
   ]
  },
  {
   "cell_type": "markdown",
   "metadata": {},
   "source": [
    "**LSTM"
   ]
  },
  {
   "cell_type": "code",
   "execution_count": null,
   "metadata": {},
   "outputs": [],
   "source": [
    "checkpoint_cb = keras.callbacks.ModelCheckpoint(\"lstm_model_fromcallback_on_tuned_param.h5\",\n",
    " save_best_only=True)\n",
    "reduce_lr1 = keras.callbacks.ReduceLROnPlateau(monitor='val_loss', factor=0.7,\n",
    "                              patience=5, min_lr=0)\n",
    "reduce_lr2 = keras.callbacks.ReduceLROnPlateau(monitor='val_loss', factor=0.5,\n",
    "                              patience=4, min_lr=0)\n",
    "reduce_lr2 = keras.callbacks.ReduceLROnPlateau(monitor='val_loss', factor=0.3,\n",
    "                              patience=3, min_lr=0)"
   ]
  },
  {
   "cell_type": "code",
   "execution_count": null,
   "metadata": {},
   "outputs": [],
   "source": [
    "history1 = lstm_model.fit(train_data_lstm, train_label_lstm, epochs=130, batch_size=256, validation_data=(X_valid_lstm, y_valid-lstm), verbose=1,callbacks=[reduce_lr1]) \n",
    "history2 = lstm_model.fit(train_data_lstm, train_label_lstm, epochs=60, batch_size=512, validation_data=(X_valid_lstm, y_valid-lstm), verbose=1,callbacks=[checkpoint_cb,reduce_lr1]) \n",
    "history3 = lstm_model.fit(train_data_lstm, train_label_lstm, epochs=40, batch_size=1024, validation_data=(X_valid_lstm, y_valid-lstm), verbose=1,callbacks=[checkpoint_cb,reduce_lr2])"
   ]
  },
  {
   "cell_type": "markdown",
   "metadata": {},
   "source": [
    "***RMSE checking on validation set"
   ]
  },
  {
   "cell_type": "code",
   "execution_count": null,
   "metadata": {
    "id": "Ip9_Rvv4xKQv"
   },
   "outputs": [],
   "source": [
    "from sklearn.metrics import mean_squared_error\n",
    "\n",
    "pred_snn = snn_model.predict(X_valid)\n",
    "basic_mse=mean_squared_error(y_valid,pred_snn)\n",
    "basic_mse_snn=np.sqrt(basic_mse)\n",
    "print(basic_mse_snn) #117.67"
   ]
  },
  {
   "cell_type": "markdown",
   "metadata": {},
   "source": [
    "Train error : 104.21, validation error: 117.67"
   ]
  },
  {
   "cell_type": "code",
   "execution_count": null,
   "metadata": {},
   "outputs": [],
   "source": [
    "pred_fnn = fnn_model.predict(X_valid)\n",
    "basic_mse_fnn=np.sqrt(mean_squared_error(y_valid,pred_fnn))\n",
    "print(basic_mse_fnn) #120.19"
   ]
  },
  {
   "cell_type": "markdown",
   "metadata": {},
   "source": [
    "Train error : 107.88, validation error: 120.19"
   ]
  },
  {
   "cell_type": "code",
   "execution_count": null,
   "metadata": {},
   "outputs": [],
   "source": [
    "pred_lstm = lstm_model.predict(X_valid_lstm)\n",
    "basic_mse_lstm=np.sqrt(mean_squared_error(y_valid_lstm,pred_lstm))\n",
    "print(basic_mse_lstm) #119.01"
   ]
  },
  {
   "cell_type": "markdown",
   "metadata": {},
   "source": [
    "Train error : 105.36, validation error: 119.01"
   ]
  },
  {
   "cell_type": "markdown",
   "metadata": {},
   "source": [
    "# ENSEMBLING MODEL"
   ]
  },
  {
   "cell_type": "code",
   "execution_count": null,
   "metadata": {},
   "outputs": [],
   "source": [
    "all_models=list()\n",
    "\n",
    "model=keras.models.load_model(\"snn_model_fromcallback_on_tuned_param.h5\")\n",
    "all_models.append(model)\n",
    "model=keras.models.load_model(\"lstm_model_fromcallback_on_tuned_param.h5\")\n",
    "all_models.append(model)\n",
    "model=keras.models.load_model(\"fnn_he_model_fromcallback_on_tuned_param.h5\")\n",
    "all_models.append(model)\n"
   ]
  },
  {
   "cell_type": "code",
   "execution_count": null,
   "metadata": {},
   "outputs": [],
   "source": [
    "def stacked_dataset(members, inputX):\n",
    "    \n",
    "    stackX=None\n",
    "    yhat=members[0].predict(inputX, verbose=0)\n",
    "    stackX=yhat\n",
    "\n",
    "    input_X_lstm=inputX.values.reshape((inputX.shape[0], 1, inputX.shape[1]))\n",
    "    yhat=members[1].predict(input_X_lstm, verbose=0)\n",
    "    stackX = np.concatenate((stackX,yhat),axis=1)\n",
    "\n",
    "    yhat=members[2].predict(inputX, verbose=0)\n",
    "    stackX = np.concatenate((stackX,yhat),axis=1)\n",
    "\n",
    "    stackX = stackX.reshape((stackX.shape[0], stackX.shape[1]))\n",
    "    return stackX    "
   ]
  },
  {
   "cell_type": "code",
   "execution_count": null,
   "metadata": {},
   "outputs": [],
   "source": [
    "def create_model(stackedX):\n",
    "    \n",
    "    \n",
    "    reg = keras.regularizers.l1_l2(l1=0.001, l2=0.01) \n",
    "    dropout=0.2\n",
    "    #initializer = tf.keras.initializers.he_normal()\n",
    "    model = keras.models.Sequential([\n",
    "                  \n",
    "      keras.layers.Input(shape=(stackedX.shape[1], stackedX.shape[2])),\n",
    "      keras.layers.LSTM(500,activation=\"selu\",kernel_initializer=\"lecun_normal\",return_sequences=True,kernel_regularizer=reg),\n",
    "      keras.layers.Dropout(0.2),\n",
    "      keras.layers.BatchNormalization(),\n",
    "    \n",
    "      keras.layers.LSTM(300,activation=\"selu\",kernel_initializer=\"lecun_normal\",return_sequences=True,kernel_regularizer=reg),\n",
    "      keras.layers.BatchNormalization(),\n",
    "      keras.layers.Dropout(0.1),\n",
    "    \n",
    "      keras.layers.LSTM(150,activation=\"selu\",kernel_initializer=\"lecun_normal\",return_sequences=True,kernel_regularizer=reg),\n",
    "      keras.layers.BatchNormalization(),\n",
    "      keras.layers.Dropout(0.1),\n",
    "    \n",
    "      keras.layers.LSTM(150,activation=\"selu\",kernel_initializer=\"lecun_normal\",return_sequences=True,kernel_regularizer=reg),\n",
    "      keras.layers.BatchNormalization(),\n",
    "    \n",
    "      keras.layers.LSTM(100,activation=\"selu\",kernel_initializer=\"lecun_normal\",kernel_regularizer=reg),\n",
    "      keras.layers.Dense(1)\n",
    "\n",
    "             ])\n",
    " \n",
    "    early_stopping_cb = keras.callbacks.EarlyStopping(patience=5,restore_best_weights=True)\n",
    "    optimizer=keras.optimizers.Nadam(\n",
    "        learning_rate=0.0005, beta_1=0.9, beta_2=0.999, epsilon=1e-07,decay=1e-06\n",
    "    )\n",
    "    model.compile(loss=\"mean_squared_error\", optimizer=optimizer,metrics=['accuracy'])\n",
    "    return model"
   ]
  },
  {
   "cell_type": "code",
   "execution_count": null,
   "metadata": {},
   "outputs": [],
   "source": [
    "def dividing_stacked(stackedX,inputy):\n",
    "    data_len = len(inputy)\n",
    "    pct = 0.90 # change it to 0.8~0.9\n",
    "    test_len = int(pct*data_len)\n",
    "    X_train = stackedX[:test_len,:]\n",
    "    y_train = inputy[:test_len]\n",
    "\n",
    "    X_valid = stackedX[test_len:,:]\n",
    "    y_valid = inputy[test_len:]\n",
    "\n",
    "    X_train=X_train.reshape((X_train.shape[0], 1, X_train.shape[1]))\n",
    "    X_valid =X_valid .reshape((X_valid .shape[0], 1, X_valid .shape[1]))\n",
    "\n",
    "    print(stackedX.shape,inputy.shape,X_train.shape,y_train.shape,X_valid.shape,y_valid.shape)\n",
    "    return X_train,y_train,X_valid,y_valid"
   ]
  },
  {
   "cell_type": "code",
   "execution_count": null,
   "metadata": {},
   "outputs": [],
   "source": [
    "def processing_stack(train_data):\n",
    "    \n",
    "    scaled_features = StandardScaler().fit_transform(train_data)\n",
    "    return scaled_features\n"
   ]
  },
  {
   "cell_type": "code",
   "execution_count": null,
   "metadata": {},
   "outputs": [],
   "source": [
    "def fit_stacked_model(members, inputX, inputy):\n",
    "    # create dataset using ensemble\n",
    "    stackedX = stacked_dataset(members, inputX)\n",
    "    \n",
    "    stackedX = processing_stack(stackedX)\n",
    "    #make a slice for validation info\n",
    "    stackedX,inputy,stackedX_slice,inputy_slice = dividing_stacked(stackedX,inputy)\n",
    " \n",
    "    nn_model = create_model(stackedX)\n",
    "\n",
    "    history1=nn_model.fit(stackedX, inputy, epochs=130, validation_data=(stackedX_slice, inputy_slice),batch_size=256,verbose=1,callbacks=[reduce_lr1])\n",
    "    history2=nn_model.fit(stackedX, inputy, epochs=50, validation_data=(stackedX_slice, inputy_slice),batch_size=512,verbose=1,callbacks=[checkpoint_cb,reduce_lr2])\n",
    "    history3=nn_model.fit(stackedX, inputy, epochs=40, validation_data=(stackedX_slice, inputy_slice),batch_size=800,verbose=1,callbacks=[checkpoint_cb,reduce_lr3])\n",
    "    \n",
    "    return nn_model,history1"
   ]
  },
  {
   "cell_type": "code",
   "execution_count": null,
   "metadata": {},
   "outputs": [],
   "source": [
    "def stacked_prediction(members, model, inputX):\n",
    "    # create dataset using ensemble\n",
    "    stackedX = stacked_dataset(members, inputX)\n",
    "    #processing\n",
    "    stackedX = processing_stack(stackedX)\n",
    "    # make a prediction\n",
    "    yhat = model.predict(stackedX)\n",
    "    return yhat"
   ]
  },
  {
   "cell_type": "code",
   "execution_count": null,
   "metadata": {},
   "outputs": [],
   "source": [
    "model,history = fit_stacked_model(all_models, train_data, train_label)\n",
    "# evaluate model on test set\n",
    "yhat = stacked_prediction(all_models, model, X_valid)"
   ]
  },
  {
   "cell_type": "code",
   "execution_count": null,
   "metadata": {},
   "outputs": [],
   "source": [
    "stacked_mse=mean_squared_error(y_valid,yhat)  # mse on validation set\n",
    "stacked_mse=np.sqrt(stacked_mse)\n",
    "print(stacked_mse)  #115.42"
   ]
  },
  {
   "cell_type": "markdown",
   "metadata": {},
   "source": [
    "Validation error : 115.42"
   ]
  },
  {
   "cell_type": "markdown",
   "metadata": {},
   "source": [
    "# TEST set prediction"
   ]
  },
  {
   "cell_type": "markdown",
   "metadata": {},
   "source": [
    "We will take the outpput from three model. The stacked model, SNN model and LSTM model, And apply weighted avg on them."
   ]
  },
  {
   "cell_type": "markdown",
   "metadata": {},
   "source": [
    "***WEIGHTED AVERAGE On 3 PREDICTION***\n",
    "**from previous:\n",
    "*    stacked model rmse on validation set: 115.42\n",
    "*    lstm model rmse on validation set: 119.01\n",
    "*    snn model rmse on validation set: 117.67\n"
   ]
  },
  {
   "cell_type": "code",
   "execution_count": null,
   "metadata": {},
   "outputs": [],
   "source": [
    "test=pd.read_csv(\"test.csv\")\n",
    "test_ID = test['ID'].values.reshape(len(test))\n",
    "test.drop(['ID'], axis=1, inplace=True)"
   ]
  },
  {
   "cell_type": "code",
   "execution_count": null,
   "metadata": {},
   "outputs": [],
   "source": [
    "X_test=processing(test)\n",
    "print(X_test.columns,X_test.shape)"
   ]
  },
  {
   "cell_type": "code",
   "execution_count": null,
   "metadata": {},
   "outputs": [],
   "source": [
    "X_test_lstm = X_test.values.reshape((X_test.shape[0],1,X_test.shape[1])) # preparing for lstm"
   ]
  },
  {
   "cell_type": "code",
   "execution_count": null,
   "metadata": {},
   "outputs": [],
   "source": [
    "test_pred_stacked = stacked_prediction(all_models, model, X_test) #prediction of stacked model (validation set rmse:)\n",
    "\n",
    "test_pred_lstm = lstm_model.predict(X_test_lstm) #prediction of previously trained lstm\n",
    "\n",
    "test_pred_snn = snn_model.predict(X_test) #prediction of previously trained snn"
   ]
  },
  {
   "cell_type": "code",
   "execution_count": null,
   "metadata": {},
   "outputs": [],
   "source": [
    "coefs = [0.60, 0.25, 0.15]\n",
    "\n",
    "test_pred = test_pred_stacked * coefs[0] + test_pred_lstm * coefs[1] + test_pred_snn * coefs[2]\n"
   ]
  },
  {
   "cell_type": "code",
   "execution_count": null,
   "metadata": {},
   "outputs": [],
   "source": [
    "preds = [0 if p<0 else p for p in test_pred]"
   ]
  },
  {
   "cell_type": "code",
   "execution_count": null,
   "metadata": {},
   "outputs": [],
   "source": [
    "zippedList =  list(zip(test_ID, preds))\n",
    "submission = pd.DataFrame(zippedList, columns = ['ID','global_horizontal_irradiance'])\n",
    "submission=submission.explode('global_horizontal_irradiance')\n",
    "submission.to_csv('submission_level5', index=False)  #PUBLIC leaderboard score: 112.67"
   ]
  }
 ],
 "metadata": {
  "kernelspec": {
   "display_name": "Python 3",
   "language": "python",
   "name": "python3"
  },
  "language_info": {
   "codemirror_mode": {
    "name": "ipython",
    "version": 3
   },
   "file_extension": ".py",
   "mimetype": "text/x-python",
   "name": "python",
   "nbconvert_exporter": "python",
   "pygments_lexer": "ipython3",
   "version": "3.7.6"
  }
 },
 "nbformat": 4,
 "nbformat_minor": 4
}
